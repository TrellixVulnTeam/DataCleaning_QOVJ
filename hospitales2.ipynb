{
 "cells": [
  {
   "cell_type": "code",
   "execution_count": 1,
   "metadata": {},
   "outputs": [],
   "source": [
    "import pandas as pd\n",
    "import os \n",
    "import numpy as np"
   ]
  },
  {
   "cell_type": "code",
   "execution_count": 2,
   "metadata": {},
   "outputs": [],
   "source": [
    "df=pd.read_csv('hospitales2.csv',encoding='utf-8')"
   ]
  },
  {
   "cell_type": "code",
   "execution_count": 3,
   "metadata": {},
   "outputs": [],
   "source": [
    "df2=df.copy()"
   ]
  },
  {
   "cell_type": "code",
   "execution_count": 5,
   "metadata": {},
   "outputs": [
    {
     "data": {
      "text/html": [
       "<div>\n",
       "<style scoped>\n",
       "    .dataframe tbody tr th:only-of-type {\n",
       "        vertical-align: middle;\n",
       "    }\n",
       "\n",
       "    .dataframe tbody tr th {\n",
       "        vertical-align: top;\n",
       "    }\n",
       "\n",
       "    .dataframe thead th {\n",
       "        text-align: right;\n",
       "    }\n",
       "</style>\n",
       "<table border=\"1\" class=\"dataframe\">\n",
       "  <thead>\n",
       "    <tr style=\"text-align: right;\">\n",
       "      <th></th>\n",
       "      <th>WKT</th>\n",
       "      <th>ID</th>\n",
       "      <th>NOMBRE</th>\n",
       "      <th>NOM_MAP</th>\n",
       "      <th>OBJETO</th>\n",
       "      <th>CALLE</th>\n",
       "      <th>ALTURA</th>\n",
       "      <th>DOM_NORMA</th>\n",
       "      <th>DOM_GEO</th>\n",
       "      <th>TELEFONO</th>\n",
       "      <th>GUARDIA</th>\n",
       "      <th>FAX</th>\n",
       "      <th>WEB</th>\n",
       "      <th>COD_POSTAL</th>\n",
       "      <th>TIPO</th>\n",
       "      <th>TIPO_ESPEC</th>\n",
       "      <th>MOD_AT_1</th>\n",
       "      <th>MOD_AT_2</th>\n",
       "      <th>DEPEND_ADM</th>\n",
       "      <th>DIRECTOR</th>\n",
       "    </tr>\n",
       "  </thead>\n",
       "  <tbody>\n",
       "    <tr>\n",
       "      <th>0</th>\n",
       "      <td>POINT (-58.3775508488443 -34.6288473603881)</td>\n",
       "      <td>1.0</td>\n",
       "      <td>HOSPITAL GENERAL DE NIÑOS PEDRO DE ELIZALDE</td>\n",
       "      <td>HOSP. DE ELIZALDE</td>\n",
       "      <td>HOSPITAL</td>\n",
       "      <td>MANUEL A. MONTES DE OCA</td>\n",
       "      <td>40</td>\n",
       "      <td>MONTES DE OCA, MANUEL AV. 40</td>\n",
       "      <td>40 MONTES DE OCA, MANUEL AV.</td>\n",
       "      <td>4307-5842 / 5844</td>\n",
       "      <td>4307-5442 / 4300-1700</td>\n",
       "      <td>4302-7400</td>\n",
       "      <td>www.elizalde.gov.ar</td>\n",
       "      <td>C1270AAN</td>\n",
       "      <td>Hospital de niños</td>\n",
       "      <td>PEDIATRIA</td>\n",
       "      <td>AT. AMB./INTERNACION</td>\n",
       "      <td>DIAG./TRATAM.</td>\n",
       "      <td>Ministerio de Salud GCBA</td>\n",
       "      <td>Dr. Javier Indart</td>\n",
       "    </tr>\n",
       "    <tr>\n",
       "      <th>1</th>\n",
       "      <td>POINT (-58.4120700769456 -34.5941919726393)</td>\n",
       "      <td>2.0</td>\n",
       "      <td>HOSPITAL GENERAL DE NIÑOS RICARDO GUTIERREZ</td>\n",
       "      <td>HOSP. GUTIERREZ</td>\n",
       "      <td>HOSPITAL</td>\n",
       "      <td>GALLO</td>\n",
       "      <td>1330</td>\n",
       "      <td>GALLO 1330</td>\n",
       "      <td>1330 GALLO</td>\n",
       "      <td>4962-9247 / 9248 / 9280</td>\n",
       "      <td>4962-9232</td>\n",
       "      <td>4962-3762</td>\n",
       "      <td>www.guti.gov.ar</td>\n",
       "      <td>C1425EFD</td>\n",
       "      <td>Hospital de niños</td>\n",
       "      <td>PEDIATRIA</td>\n",
       "      <td>AT. AMB./INTERNACION</td>\n",
       "      <td>DIAG./TRATAM.</td>\n",
       "      <td>Ministerio de Salud GCBA</td>\n",
       "      <td>Dra. María Cristina Galoppo</td>\n",
       "    </tr>\n",
       "    <tr>\n",
       "      <th>2</th>\n",
       "      <td>POINT (-58.4027276547828 -34.5845283357505)</td>\n",
       "      <td>4.0</td>\n",
       "      <td>HOSPITAL DE ODONTOLOGIA DR. RAMON CARRILLO (EX...</td>\n",
       "      <td>HOSP. ODONTOLOGICO CARRILLO</td>\n",
       "      <td>HOSPITAL</td>\n",
       "      <td>SANCHEZ DE BUSTAMANTE</td>\n",
       "      <td>2529</td>\n",
       "      <td>SANCHEZ DE BUSTAMANTE 2529</td>\n",
       "      <td>2529 SANCHEZ DE BUSTAMANTE</td>\n",
       "      <td>4805-5521 / 7533</td>\n",
       "      <td>4805-6407</td>\n",
       "      <td>4805-7533</td>\n",
       "      <td>NaN</td>\n",
       "      <td>C1425DUY</td>\n",
       "      <td>Hospital especializado</td>\n",
       "      <td>ODONTOLOGIA</td>\n",
       "      <td>AT. AMBULATORIA</td>\n",
       "      <td>DIAG./TRATAM.</td>\n",
       "      <td>Ministerio de Salud GCBA</td>\n",
       "      <td>Dra. Susana Rita Lisanti</td>\n",
       "    </tr>\n",
       "  </tbody>\n",
       "</table>\n",
       "</div>"
      ],
      "text/plain": [
       "                                           WKT   ID  \\\n",
       "0  POINT (-58.3775508488443 -34.6288473603881)  1.0   \n",
       "1  POINT (-58.4120700769456 -34.5941919726393)  2.0   \n",
       "2  POINT (-58.4027276547828 -34.5845283357505)  4.0   \n",
       "\n",
       "                                              NOMBRE  \\\n",
       "0        HOSPITAL GENERAL DE NIÑOS PEDRO DE ELIZALDE   \n",
       "1        HOSPITAL GENERAL DE NIÑOS RICARDO GUTIERREZ   \n",
       "2  HOSPITAL DE ODONTOLOGIA DR. RAMON CARRILLO (EX...   \n",
       "\n",
       "                       NOM_MAP    OBJETO                    CALLE  ALTURA  \\\n",
       "0            HOSP. DE ELIZALDE  HOSPITAL  MANUEL A. MONTES DE OCA      40   \n",
       "1              HOSP. GUTIERREZ  HOSPITAL                    GALLO    1330   \n",
       "2  HOSP. ODONTOLOGICO CARRILLO  HOSPITAL    SANCHEZ DE BUSTAMANTE    2529   \n",
       "\n",
       "                      DOM_NORMA                       DOM_GEO  \\\n",
       "0  MONTES DE OCA, MANUEL AV. 40  40 MONTES DE OCA, MANUEL AV.   \n",
       "1                    GALLO 1330                    1330 GALLO   \n",
       "2    SANCHEZ DE BUSTAMANTE 2529    2529 SANCHEZ DE BUSTAMANTE   \n",
       "\n",
       "                  TELEFONO                GUARDIA        FAX  \\\n",
       "0         4307-5842 / 5844  4307-5442 / 4300-1700  4302-7400   \n",
       "1  4962-9247 / 9248 / 9280              4962-9232  4962-3762   \n",
       "2         4805-5521 / 7533              4805-6407  4805-7533   \n",
       "\n",
       "                   WEB COD_POSTAL                    TIPO   TIPO_ESPEC  \\\n",
       "0  www.elizalde.gov.ar   C1270AAN       Hospital de niños    PEDIATRIA   \n",
       "1      www.guti.gov.ar   C1425EFD       Hospital de niños    PEDIATRIA   \n",
       "2                  NaN   C1425DUY  Hospital especializado  ODONTOLOGIA   \n",
       "\n",
       "               MOD_AT_1       MOD_AT_2                DEPEND_ADM  \\\n",
       "0  AT. AMB./INTERNACION  DIAG./TRATAM.  Ministerio de Salud GCBA   \n",
       "1  AT. AMB./INTERNACION  DIAG./TRATAM.  Ministerio de Salud GCBA   \n",
       "2       AT. AMBULATORIA  DIAG./TRATAM.  Ministerio de Salud GCBA   \n",
       "\n",
       "                      DIRECTOR  \n",
       "0            Dr. Javier Indart  \n",
       "1  Dra. María Cristina Galoppo  \n",
       "2     Dra. Susana Rita Lisanti  "
      ]
     },
     "execution_count": 5,
     "metadata": {},
     "output_type": "execute_result"
    }
   ],
   "source": [
    "df2.head(3)"
   ]
  },
  {
   "cell_type": "code",
   "execution_count": 6,
   "metadata": {},
   "outputs": [],
   "source": [
    "coordenadas=[coordenadas.split() for coordenadas in df2['WKT']]\n",
    "longitude=[float(elemento[1].strip('(')) for elemento in coordenadas]\n",
    "latitude=[float(elemento[2].strip(')')) for elemento in coordenadas]\n"
   ]
  },
  {
   "cell_type": "code",
   "execution_count": 11,
   "metadata": {},
   "outputs": [
    {
     "name": "stdout",
     "output_type": "stream",
     "text": [
      "<class 'list'>\n"
     ]
    }
   ],
   "source": [
    "print(type(longitude))"
   ]
  },
  {
   "cell_type": "code",
   "execution_count": 7,
   "metadata": {},
   "outputs": [],
   "source": [
    "datos=dict(latitude=latitude,longitude=longitude,name=df2['DOM_NORMA'],label=df2['NOM_MAP'])\n",
    "pd.DataFrame(datos).to_csv('hospitales_salida.csv',index=False)\n"
   ]
  },
  {
   "cell_type": "code",
   "execution_count": 9,
   "metadata": {},
   "outputs": [
    {
     "data": {
      "text/html": [
       "<div>\n",
       "<style scoped>\n",
       "    .dataframe tbody tr th:only-of-type {\n",
       "        vertical-align: middle;\n",
       "    }\n",
       "\n",
       "    .dataframe tbody tr th {\n",
       "        vertical-align: top;\n",
       "    }\n",
       "\n",
       "    .dataframe thead th {\n",
       "        text-align: right;\n",
       "    }\n",
       "</style>\n",
       "<table border=\"1\" class=\"dataframe\">\n",
       "  <thead>\n",
       "    <tr style=\"text-align: right;\">\n",
       "      <th></th>\n",
       "      <th>latitude</th>\n",
       "      <th>longitude</th>\n",
       "      <th>name</th>\n",
       "      <th>label</th>\n",
       "    </tr>\n",
       "  </thead>\n",
       "  <tbody>\n",
       "    <tr>\n",
       "      <th>0</th>\n",
       "      <td>-34.628847</td>\n",
       "      <td>-58.377551</td>\n",
       "      <td>MONTES DE OCA, MANUEL AV. 40</td>\n",
       "      <td>HOSP. DE ELIZALDE</td>\n",
       "    </tr>\n",
       "    <tr>\n",
       "      <th>1</th>\n",
       "      <td>-34.594192</td>\n",
       "      <td>-58.412070</td>\n",
       "      <td>GALLO 1330</td>\n",
       "      <td>HOSP. GUTIERREZ</td>\n",
       "    </tr>\n",
       "    <tr>\n",
       "      <th>2</th>\n",
       "      <td>-34.584528</td>\n",
       "      <td>-58.402728</td>\n",
       "      <td>SANCHEZ DE BUSTAMANTE 2529</td>\n",
       "      <td>HOSP. ODONTOLOGICO CARRILLO</td>\n",
       "    </tr>\n",
       "    <tr>\n",
       "      <th>3</th>\n",
       "      <td>-34.639404</td>\n",
       "      <td>-58.385156</td>\n",
       "      <td>BRANDSEN 2570</td>\n",
       "      <td>HOSP. MOYANO</td>\n",
       "    </tr>\n",
       "    <tr>\n",
       "      <th>4</th>\n",
       "      <td>-34.634154</td>\n",
       "      <td>-58.391311</td>\n",
       "      <td>CASEROS AV. 2061</td>\n",
       "      <td>HOSP. UDAONDO</td>\n",
       "    </tr>\n",
       "  </tbody>\n",
       "</table>\n",
       "</div>"
      ],
      "text/plain": [
       "    latitude  longitude                          name  \\\n",
       "0 -34.628847 -58.377551  MONTES DE OCA, MANUEL AV. 40   \n",
       "1 -34.594192 -58.412070                    GALLO 1330   \n",
       "2 -34.584528 -58.402728    SANCHEZ DE BUSTAMANTE 2529   \n",
       "3 -34.639404 -58.385156                 BRANDSEN 2570   \n",
       "4 -34.634154 -58.391311              CASEROS AV. 2061   \n",
       "\n",
       "                         label  \n",
       "0            HOSP. DE ELIZALDE  \n",
       "1              HOSP. GUTIERREZ  \n",
       "2  HOSP. ODONTOLOGICO CARRILLO  \n",
       "3                 HOSP. MOYANO  \n",
       "4                HOSP. UDAONDO  "
      ]
     },
     "execution_count": 9,
     "metadata": {},
     "output_type": "execute_result"
    }
   ],
   "source": [
    "datafinal=pd.DataFrame(datos)\n",
    "datafinal.head()"
   ]
  }
 ],
 "metadata": {
  "kernelspec": {
   "display_name": "Python 3.8.2 ('virtualenv': venv)",
   "language": "python",
   "name": "python3"
  },
  "language_info": {
   "codemirror_mode": {
    "name": "ipython",
    "version": 3
   },
   "file_extension": ".py",
   "mimetype": "text/x-python",
   "name": "python",
   "nbconvert_exporter": "python",
   "pygments_lexer": "ipython3",
   "version": "3.8.2"
  },
  "orig_nbformat": 4,
  "vscode": {
   "interpreter": {
    "hash": "11a3fd0eaeec87a583edf884ee34247b950f1ff4eec1f13297ed9a62dd3e5b4f"
   }
  }
 },
 "nbformat": 4,
 "nbformat_minor": 2
}
